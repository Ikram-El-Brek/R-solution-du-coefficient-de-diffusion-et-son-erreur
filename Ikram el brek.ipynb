{
  "cells": [
    {
      "cell_type": "markdown",
      "metadata": {
        "id": "view-in-github",
        "colab_type": "text"
      },
      "source": [
        "<a href=\"https://colab.research.google.com/github/Ikram-El-Brek/R-solution-du-coefficient-de-diffusion-et-son-erreur/blob/main/Ikram%20el%20brek.ipynb\" target=\"_parent\"><img src=\"https://colab.research.google.com/assets/colab-badge.svg\" alt=\"Open In Colab\"/></a>"
      ]
    },
    {
      "cell_type": "code",
      "source": [
        "import numpy as np\n",
        "import ipywidgets as widgets\n",
        "from IPython.display import display\n",
        "\n",
        "# Fonction pour calculer le coefficient de diffusion\n",
        "def compute_diffusion_coefficient(x_A, D_AB_0_A, D_AB_0_B, theta_A, theta_B, phi_A, phi_B, q_A, q_B,\n",
        "                                  tau_AB, tau_BA, theta_AA, theta_BB, theta_AB, theta_BA,\n",
        "                                  lambda_A, lambda_B, experimental_value):\n",
        "    # Paramètres UNIFAC\n",
        "    x_B = 1 - x_A\n",
        "\n",
        "    # Calcul des termes de l'équation\n",
        "    term1 = x_B * np.log(D_AB_0_A) + x_A * np.log(D_AB_0_B)\n",
        "    term2 = 2 * (x_A * np.log(x_A / phi_A) + x_B * np.log(x_B / phi_B))\n",
        "    term3 = 2 * x_A * x_B * ((phi_A / x_A) * (1 - (lambda_A / lambda_B)) + (phi_B / x_B) * (1 - (lambda_B / lambda_A)))\n",
        "    term4 = (x_B * q_A) * ((1 - theta_BA**2) * np.log(tau_BA) + (1 - theta_BB**2) * tau_AB * np.log(tau_AB))\n",
        "    term5 = (x_A * q_B) * ((1 - theta_AB**2) * np.log(tau_AB) + (1 - theta_AA**2) * tau_BA * np.log(tau_BA))\n",
        "\n",
        "    ln_D_AB = term1 + term2 + term3 + term4 + term5\n",
        "    D_AB = np.exp(ln_D_AB)\n",
        "\n",
        "    # Calcul d'erreur\n",
        "    D_exp = 1.33*10**(-5)\n",
        "    error = abs((D_AB - D_exp) / D_exp) * 100\n",
        "\n",
        "    return D_AB, error\n",
        "\n",
        "# Fonction appelée lors du clic sur le bouton\n",
        "def on_calculate_button_click(b):\n",
        "    D_AB, error = compute_diffusion_coefficient(\n",
        "        xA_widget.value, D0_AB_widget.value, D0_BA_widget.value,\n",
        "        theta_A_widget.value, theta_B_widget.value, phi_A_widget.value,\n",
        "        phi_B_widget.value, q_A_widget.value, q_B_widget.value,\n",
        "        tau_AB_widget.value, tau_BA_widget.value, theta_AA_widget.value,\n",
        "        theta_BB_widget.value, theta_AB_widget.value, theta_BA_widget.value,\n",
        "        lambda_A_widget.value, lambda_B_widget.value, experimental_value_widget.value\n",
        "    )\n",
        "    print(f\"Coefficient de diffusion D_AB: {D_AB:.4e} cm^2/s\")\n",
        "    print(f\"Erreur: {error:.2f}%\")\n",
        "\n",
        "# Création des widgets interactifs\n",
        "xA_widget = widgets.FloatSlider(value=0.25, min=0, max=1, step=0.01, description='xA:')\n",
        "D0_AB_widget = widgets.FloatText(value=2.1e-5, description='D0_AB (cm²/s):')\n",
        "D0_BA_widget = widgets.FloatText(value=2.67e-5, description='D0_BA (cm²/s):')\n",
        "theta_A_widget = widgets.FloatText(value=0.254, description='theta_A:')\n",
        "theta_B_widget = widgets.FloatText(value=0.721, description='theta_B:')\n",
        "phi_A_widget = widgets.FloatText(value=0.279, description='phi_A:')\n",
        "phi_B_widget = widgets.FloatText(value=0.746, description='phi_B:')\n",
        "q_A_widget = widgets.FloatText(value=1.432, description='q_A:')\n",
        "q_B_widget = widgets.FloatText(value=1.4, description='q_B:')\n",
        "tau_AB_widget = widgets.FloatText(value=1.035, description='tau_AB:')\n",
        "tau_BA_widget = widgets.FloatText(value=0.5373, description='tau_BA:')\n",
        "theta_AA_widget = widgets.FloatText(value=0.388, description='theta_AA:')\n",
        "theta_BB_widget = widgets.FloatText(value=0.739, description='theta_BB:')\n",
        "theta_AB_widget = widgets.FloatText(value=0.261, description='theta_AB:')\n",
        "theta_BA_widget = widgets.FloatText(value=0.612, description='theta_BA:')\n",
        "lambda_A_widget = widgets.FloatText(value=1.127, description='lambda_A:')\n",
        "lambda_B_widget = widgets.FloatText(value=0.973, description='lambda_B:')\n",
        "experimental_value_widget = widgets.FloatText(value=1.33e-5, description='Valeur expérimentale (cm²/s):')\n",
        "\n",
        "# Bouton pour lancer le calcul\n",
        "calculate_button = widgets.Button(description=\"Calculer D_AB\")\n",
        "calculate_button.on_click(on_calculate_button_click)\n",
        "\n",
        "# Afficher les widgets\n",
        "display(xA_widget, D0_AB_widget, D0_BA_widget, theta_A_widget, theta_B_widget,\n",
        "        phi_A_widget, phi_B_widget, q_A_widget, q_B_widget, tau_AB_widget,\n",
        "        tau_BA_widget, theta_AA_widget, theta_BB_widget, theta_AB_widget,\n",
        "        theta_BA_widget, lambda_A_widget, lambda_B_widget, experimental_value_widget,\n",
        "        calculate_button)"
      ],
      "metadata": {
        "id": "379sahtg7p5M"
      },
      "execution_count": null,
      "outputs": []
    }
  ],
  "metadata": {
    "colab": {
      "name": "Bienvenue dans Colaboratory",
      "toc_visible": true,
      "provenance": [],
      "include_colab_link": true
    },
    "kernelspec": {
      "display_name": "Python 3",
      "name": "python3"
    }
  },
  "nbformat": 4,
  "nbformat_minor": 0
}