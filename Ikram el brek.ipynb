{
  "cells": [
    {
      "cell_type": "markdown",
      "metadata": {
        "id": "view-in-github",
        "colab_type": "text"
      },
      "source": [
        "<a href=\"https://colab.research.google.com/github/Ikram-El-Brek/R-solution-du-coefficient-de-diffusion-et-son-erreur/blob/main/Ikram%20el%20brek.ipynb\" target=\"_parent\"><img src=\"https://colab.research.google.com/assets/colab-badge.svg\" alt=\"Open In Colab\"/></a>"
      ]
    },
    {
      "cell_type": "code",
      "source": [
        "import numpy as np\n",
        "import ipywidgets as widgets\n",
        "from IPython.display import display\n",
        "\n",
        "def compute_diffusion_coefficient(D_AB_0, D_BA_0, x_A, lambda_A, lambda_B, q_A, q_B, theta_A, theta_B, theta_BA, theta_AB, theta_AA, theta_BB, tau_AB, tau_BA, D_exp):\n",
        "    x_B = 1 - x_A\n",
        "    phi_A = x_A * lambda_A / (x_A * lambda_A + x_B * lambda_B)\n",
        "    phi_B = x_B * lambda_B / (x_A * lambda_A + x_B * lambda_B)\n",
        "\n",
        "    term1 = x_B * np.log(D_AB_0) + x_A * np.log(D_BA_0) + 2 * (x_A * np.log(x_A / phi_A) + x_B * np.log(x_B / phi_B))\n",
        "    term2 = 2 * x_A * x_B * ((phi_A / x_A) * (1 - (lambda_A / lambda_B)) + (phi_B / x_B) * (1 - (lambda_B / lambda_A)))\n",
        "    term3 = (x_B * q_A) * ((1 - theta_BA **2) * np.log(tau_BA) + (1 - theta_BB **2) * tau_AB * np.log(tau_AB))\n",
        "    term4 = (x_A * q_B) * ((1 - theta_AB **2) * np.log(tau_AB) + (1 - theta_AA **2) * tau_BA * np.log(tau_BA))\n",
        "\n",
        "    ln_D_AB = term1 + term2 + term3 + term4\n",
        "    D_AB = np.exp(ln_D_AB)\n",
        "    error = abs((D_AB - D_exp)) / D_exp * 100\n",
        "\n",
        "    return D_AB, error\n",
        "\n",
        "def display_results(button):\n",
        "    D_AB_0 = float(D_AB_0_input.value)\n",
        "    D_BA_0 = float(D_BA_0_input.value)\n",
        "    x_A = float(x_A_slider.value)\n",
        "    lambda_A = float(lambda_A_input.value)\n",
        "    lambda_B = float(lambda_B_input.value)\n",
        "    q_A = float(q_A_input.value)\n",
        "    q_B = float(q_B_input.value)\n",
        "    theta_A = float(theta_A_input.value)\n",
        "    theta_B = float(theta_B_input.value)\n",
        "    theta_BA = float(theta_BA_input.value)\n",
        "    theta_AB = float(theta_AB_input.value)\n",
        "    theta_AA = float(theta_AA_input.value)\n",
        "    theta_BB = float(theta_BB_input.value)\n",
        "    tau_AB = float(tau_AB_input.value)\n",
        "    tau_BA = float(tau_BA_input.value)\n",
        "    D_exp = float(D_exp_input.value)\n",
        "\n",
        "    D_AB, error = compute_diffusion_coefficient(D_AB_0, D_BA_0, x_A, lambda_A, lambda_B, q_A, q_B, theta_A, theta_B, theta_BA, theta_AB, theta_AA, theta_BB, tau_AB, tau_BA, D_exp)\n",
        "    result_label.value = f\"Coefficient de diffusion D_AB: {D_AB:.4e} cm^2/s\\nErreur: {error:.2f}%\"\n",
        "\n",
        "# Création des widgets pour les champs de saisie et le bouton\n",
        "D_AB_0_input = widgets.FloatText(value=2.1e-5, description='D_AB_0:')\n",
        "D_BA_0_input = widgets.FloatText(value=2.67e-5, description='D_BA_0:')\n",
        "x_A_slider = widgets.FloatSlider(value=0.25, min=0, max=1, step=0.01, description='x_A:')\n",
        "lambda_A_input = widgets.FloatText(value=1.127, description='lambda_A:')\n",
        "lambda_B_input = widgets.FloatText(value=0.973, description='lambda_B:')\n",
        "q_A_input = widgets.FloatText(value=1.432, description='q_A:')\n",
        "q_B_input = widgets.FloatText(value=1.4, description='q_B:')\n",
        "theta_A_input = widgets.FloatText(value=0.254, description='theta_A:')\n",
        "theta_B_input = widgets.FloatText(value=0.721, description='theta_B:')\n",
        "theta_BA_input = widgets.FloatText(value=0.612, description='theta_BA:')\n",
        "theta_AB_input = widgets.FloatText(value=0.261, description='theta_AB:')\n",
        "theta_AA_input = widgets.FloatText(value=0.388, description='theta_AA:')\n",
        "theta_BB_input = widgets.FloatText(value=0.739, description='theta_BB:')\n",
        "tau_AB_input = widgets.FloatText(value=1.035, description='tau_AB:')\n",
        "tau_BA_input = widgets.FloatText(value=0.5373, description='tau_BA:')\n",
        "D_exp_input = widgets.FloatText(value=1.33e-5, description='D_exp:')\n",
        "calculate_button = widgets.Button(description=\"Calculer\")\n",
        "result_label = widgets.Label(value=\"\")\n",
        "\n",
        "# Lier l'événement du bouton à la fonction display_results\n",
        "calculate_button.on_click(display_results)\n",
        "\n",
        "# Affichage des widgets\n",
        "display(D_AB_0_input, D_BA_0_input, x_A_slider, lambda_A_input, lambda_B_input, q_A_input, q_B_input, theta_A_input, theta_B_input, theta_BA_input, theta_AB_input, theta_AA_input, theta_BB_input, tau_AB_input, tau_BA_input, D_exp_input, calculate_button, result_label)"
      ],
      "metadata": {
        "id": "xLu8pOMm_e2c"
      },
      "execution_count": null,
      "outputs": []
    },
    {
      "cell_type": "code",
      "source": [],
      "metadata": {
        "id": "I8qG2UB5_uBd"
      },
      "execution_count": null,
      "outputs": []
    }
  ],
  "metadata": {
    "colab": {
      "name": "Bienvenue dans Colaboratory",
      "toc_visible": true,
      "provenance": [],
      "include_colab_link": true
    },
    "kernelspec": {
      "display_name": "Python 3",
      "name": "python3"
    }
  },
  "nbformat": 4,
  "nbformat_minor": 0
}